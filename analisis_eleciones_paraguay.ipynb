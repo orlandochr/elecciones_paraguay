{
  "nbformat": 4,
  "nbformat_minor": 0,
  "metadata": {
    "colab": {
      "name": "analisis-eleciones-paraguay.ipynb",
      "provenance": [],
      "collapsed_sections": [],
      "authorship_tag": "ABX9TyNOVBH7AQVkCmWedgCaQtUM",
      "include_colab_link": true
    },
    "kernelspec": {
      "name": "python3",
      "display_name": "Python 3"
    },
    "accelerator": "GPU"
  },
  "cells": [
    {
      "cell_type": "markdown",
      "metadata": {
        "id": "view-in-github",
        "colab_type": "text"
      },
      "source": [
        "<a href=\"https://colab.research.google.com/github/orlandochr/elecciones_paraguay/blob/main/analisis_eleciones_paraguay.ipynb\" target=\"_parent\"><img src=\"https://colab.research.google.com/assets/colab-badge.svg\" alt=\"Open In Colab\"/></a>"
      ]
    },
    {
      "cell_type": "markdown",
      "metadata": {
        "id": "jlf3-Oqm2cuW"
      },
      "source": [
        "#Diplomado en Machine Learnng 2020\n",
        "###Ucom Pro \n",
        "###Proyecto Final \n",
        "###Analsis de datos Elecciones Generales y Municipales Paraguay \n",
        "Orlando Chaparro."
      ]
    },
    {
      "cell_type": "markdown",
      "metadata": {
        "id": "_FFViPiw3MtW"
      },
      "source": [
        "Importación de Librerias"
      ]
    },
    {
      "cell_type": "code",
      "metadata": {
        "id": "1DiyGNde2Tzl"
      },
      "source": [
        "import math\n",
        "import numpy as np\n",
        "import pandas as pd\n",
        "import pandas_profiling\n",
        "import matplotlib.pyplot as plt\n",
        "\n"
      ],
      "execution_count": 1,
      "outputs": []
    },
    {
      "cell_type": "markdown",
      "metadata": {
        "id": "Cgc8OXn43XwX"
      },
      "source": [
        "Importación de datos\n",
        "El dataset se importa desde el sitio web del proyecto. \n"
      ]
    },
    {
      "cell_type": "code",
      "metadata": {
        "id": "frmFiGk73ktD"
      },
      "source": [
        "data_url = 'http://proyectoucom.orlychaparro.com/data/resultados-1996-2018-municipales-y-generales.csv'\n",
        "\n",
        "elecciones_df = pd.read_csv(data_url, encoding = \"ISO-8859-1\",sep=';', engine='python')\n",
        "#elecciones_df = pd.read_csv('/content/drive/My Drive/elecciones/data/resultados-1996-2018-municipales-y-generales.csv')"
      ],
      "execution_count": 2,
      "outputs": []
    },
    {
      "cell_type": "markdown",
      "metadata": {
        "id": "YYcgVi_S4NXW"
      },
      "source": [
        "Shape (dimensión) del Dataset\n"
      ]
    },
    {
      "cell_type": "code",
      "metadata": {
        "id": "zmx77pPv4gXv",
        "outputId": "3211cfcf-0afe-48c3-8157-4a6d47bde317",
        "colab": {
          "base_uri": "https://localhost:8080/"
        }
      },
      "source": [
        "elecciones_df.shape"
      ],
      "execution_count": 3,
      "outputs": [
        {
          "output_type": "execute_result",
          "data": {
            "text/plain": [
              "(390760, 19)"
            ]
          },
          "metadata": {
            "tags": []
          },
          "execution_count": 3
        }
      ]
    },
    {
      "cell_type": "code",
      "metadata": {
        "id": "pjcGIuiHD1CC",
        "outputId": "d0874412-bf50-4786-a59d-23c2a36b918f",
        "colab": {
          "base_uri": "https://localhost:8080/"
        }
      },
      "source": [
        "elecciones_df.columns.values"
      ],
      "execution_count": 4,
      "outputs": [
        {
          "output_type": "execute_result",
          "data": {
            "text/plain": [
              "array(['año', 'tipo_eleccion', 'dep', 'depdes', 'dis', 'disdes', 'zon',\n",
              "       'zondes', 'loc', 'locdes', 'candidatura', 'cand_desc', 'lista',\n",
              "       'siglas_lista', 'nombre_lista', 'votos', 'nulos', 'blancos',\n",
              "       'total_votos'], dtype=object)"
            ]
          },
          "metadata": {
            "tags": []
          },
          "execution_count": 4
        }
      ]
    },
    {
      "cell_type": "code",
      "metadata": {
        "id": "YPrbuc3FEJ6U",
        "outputId": "f376b619-69b2-45a8-b447-fe1f7bd72833",
        "colab": {
          "base_uri": "https://localhost:8080/"
        }
      },
      "source": [
        "elecciones_df.dtypes"
      ],
      "execution_count": 5,
      "outputs": [
        {
          "output_type": "execute_result",
          "data": {
            "text/plain": [
              "año                int64\n",
              "tipo_eleccion     object\n",
              "dep                int64\n",
              "depdes            object\n",
              "dis                int64\n",
              "disdes            object\n",
              "zon              float64\n",
              "zondes            object\n",
              "loc              float64\n",
              "locdes            object\n",
              "candidatura        int64\n",
              "cand_desc         object\n",
              "lista            float64\n",
              "siglas_lista      object\n",
              "nombre_lista      object\n",
              "votos              int64\n",
              "nulos              int64\n",
              "blancos            int64\n",
              "total_votos        int64\n",
              "dtype: object"
            ]
          },
          "metadata": {
            "tags": []
          },
          "execution_count": 5
        }
      ]
    },
    {
      "cell_type": "markdown",
      "metadata": {
        "id": "x8PHdawZ4p9_"
      },
      "source": [
        "Ver datos del Dataframe"
      ]
    },
    {
      "cell_type": "code",
      "metadata": {
        "id": "orhJXb_A4pcB",
        "outputId": "e8433438-26e9-47dd-a86b-28dafc4d3a2d",
        "colab": {
          "base_uri": "https://localhost:8080/",
          "height": 411
        }
      },
      "source": [
        "elecciones_df.head()\n"
      ],
      "execution_count": 6,
      "outputs": [
        {
          "output_type": "execute_result",
          "data": {
            "text/html": [
              "<div>\n",
              "<style scoped>\n",
              "    .dataframe tbody tr th:only-of-type {\n",
              "        vertical-align: middle;\n",
              "    }\n",
              "\n",
              "    .dataframe tbody tr th {\n",
              "        vertical-align: top;\n",
              "    }\n",
              "\n",
              "    .dataframe thead th {\n",
              "        text-align: right;\n",
              "    }\n",
              "</style>\n",
              "<table border=\"1\" class=\"dataframe\">\n",
              "  <thead>\n",
              "    <tr style=\"text-align: right;\">\n",
              "      <th></th>\n",
              "      <th>año</th>\n",
              "      <th>tipo_eleccion</th>\n",
              "      <th>dep</th>\n",
              "      <th>depdes</th>\n",
              "      <th>dis</th>\n",
              "      <th>disdes</th>\n",
              "      <th>zon</th>\n",
              "      <th>zondes</th>\n",
              "      <th>loc</th>\n",
              "      <th>locdes</th>\n",
              "      <th>candidatura</th>\n",
              "      <th>cand_desc</th>\n",
              "      <th>lista</th>\n",
              "      <th>siglas_lista</th>\n",
              "      <th>nombre_lista</th>\n",
              "      <th>votos</th>\n",
              "      <th>nulos</th>\n",
              "      <th>blancos</th>\n",
              "      <th>total_votos</th>\n",
              "    </tr>\n",
              "  </thead>\n",
              "  <tbody>\n",
              "    <tr>\n",
              "      <th>0</th>\n",
              "      <td>1996</td>\n",
              "      <td>municipales</td>\n",
              "      <td>0</td>\n",
              "      <td>CAPITAL</td>\n",
              "      <td>0</td>\n",
              "      <td>ASUNCION</td>\n",
              "      <td>NaN</td>\n",
              "      <td>NaN</td>\n",
              "      <td>NaN</td>\n",
              "      <td>NaN</td>\n",
              "      <td>1</td>\n",
              "      <td>INTENDENTE</td>\n",
              "      <td>NaN</td>\n",
              "      <td>ANR</td>\n",
              "      <td>ASOCIACIÓN NACIONAL REPUBLICANA</td>\n",
              "      <td>105078</td>\n",
              "      <td>3638</td>\n",
              "      <td>2997</td>\n",
              "      <td>236033</td>\n",
              "    </tr>\n",
              "    <tr>\n",
              "      <th>1</th>\n",
              "      <td>1996</td>\n",
              "      <td>municipales</td>\n",
              "      <td>0</td>\n",
              "      <td>CAPITAL</td>\n",
              "      <td>0</td>\n",
              "      <td>ASUNCION</td>\n",
              "      <td>NaN</td>\n",
              "      <td>NaN</td>\n",
              "      <td>NaN</td>\n",
              "      <td>NaN</td>\n",
              "      <td>1</td>\n",
              "      <td>INTENDENTE</td>\n",
              "      <td>NaN</td>\n",
              "      <td>PRF</td>\n",
              "      <td>PARTIDO REVOLUCIONARIO FEBRERISTA</td>\n",
              "      <td>1997</td>\n",
              "      <td>3638</td>\n",
              "      <td>2997</td>\n",
              "      <td>236033</td>\n",
              "    </tr>\n",
              "    <tr>\n",
              "      <th>2</th>\n",
              "      <td>1996</td>\n",
              "      <td>municipales</td>\n",
              "      <td>0</td>\n",
              "      <td>CAPITAL</td>\n",
              "      <td>0</td>\n",
              "      <td>ASUNCION</td>\n",
              "      <td>NaN</td>\n",
              "      <td>NaN</td>\n",
              "      <td>NaN</td>\n",
              "      <td>NaN</td>\n",
              "      <td>1</td>\n",
              "      <td>INTENDENTE</td>\n",
              "      <td>NaN</td>\n",
              "      <td>PDC</td>\n",
              "      <td>PARTIDO DEMÓCRATA CRISTIANO</td>\n",
              "      <td>911</td>\n",
              "      <td>3638</td>\n",
              "      <td>2997</td>\n",
              "      <td>236033</td>\n",
              "    </tr>\n",
              "    <tr>\n",
              "      <th>3</th>\n",
              "      <td>1996</td>\n",
              "      <td>municipales</td>\n",
              "      <td>0</td>\n",
              "      <td>CAPITAL</td>\n",
              "      <td>0</td>\n",
              "      <td>ASUNCION</td>\n",
              "      <td>NaN</td>\n",
              "      <td>NaN</td>\n",
              "      <td>NaN</td>\n",
              "      <td>NaN</td>\n",
              "      <td>1</td>\n",
              "      <td>INTENDENTE</td>\n",
              "      <td>NaN</td>\n",
              "      <td>PLRA_PEN</td>\n",
              "      <td>PARTIDO LIBERAL RADICAL AUTENTICO - PARTIDO EN...</td>\n",
              "      <td>120518</td>\n",
              "      <td>3638</td>\n",
              "      <td>2997</td>\n",
              "      <td>236033</td>\n",
              "    </tr>\n",
              "    <tr>\n",
              "      <th>4</th>\n",
              "      <td>1996</td>\n",
              "      <td>municipales</td>\n",
              "      <td>0</td>\n",
              "      <td>CAPITAL</td>\n",
              "      <td>0</td>\n",
              "      <td>ASUNCION</td>\n",
              "      <td>NaN</td>\n",
              "      <td>NaN</td>\n",
              "      <td>NaN</td>\n",
              "      <td>NaN</td>\n",
              "      <td>1</td>\n",
              "      <td>INTENDENTE</td>\n",
              "      <td>NaN</td>\n",
              "      <td>MCPA</td>\n",
              "      <td>MOVIMIENTO CIUDADANO POR ASUNCION</td>\n",
              "      <td>894</td>\n",
              "      <td>3638</td>\n",
              "      <td>2997</td>\n",
              "      <td>236033</td>\n",
              "    </tr>\n",
              "  </tbody>\n",
              "</table>\n",
              "</div>"
            ],
            "text/plain": [
              "    año tipo_eleccion  dep   depdes  ...   votos nulos  blancos total_votos\n",
              "0  1996   municipales    0  CAPITAL  ...  105078  3638     2997      236033\n",
              "1  1996   municipales    0  CAPITAL  ...    1997  3638     2997      236033\n",
              "2  1996   municipales    0  CAPITAL  ...     911  3638     2997      236033\n",
              "3  1996   municipales    0  CAPITAL  ...  120518  3638     2997      236033\n",
              "4  1996   municipales    0  CAPITAL  ...     894  3638     2997      236033\n",
              "\n",
              "[5 rows x 19 columns]"
            ]
          },
          "metadata": {
            "tags": []
          },
          "execution_count": 6
        }
      ]
    },
    {
      "cell_type": "markdown",
      "metadata": {
        "id": "f4uNZB5QEbrL"
      },
      "source": [
        "Descripción del Dataset"
      ]
    },
    {
      "cell_type": "code",
      "metadata": {
        "id": "xyupod-KEcA4",
        "outputId": "8294a1a9-7b15-47c8-f614-5245a6ccd0ca",
        "colab": {
          "base_uri": "https://localhost:8080/",
          "height": 317
        }
      },
      "source": [
        "elecciones_df.describe()"
      ],
      "execution_count": 7,
      "outputs": [
        {
          "output_type": "execute_result",
          "data": {
            "text/html": [
              "<div>\n",
              "<style scoped>\n",
              "    .dataframe tbody tr th:only-of-type {\n",
              "        vertical-align: middle;\n",
              "    }\n",
              "\n",
              "    .dataframe tbody tr th {\n",
              "        vertical-align: top;\n",
              "    }\n",
              "\n",
              "    .dataframe thead th {\n",
              "        text-align: right;\n",
              "    }\n",
              "</style>\n",
              "<table border=\"1\" class=\"dataframe\">\n",
              "  <thead>\n",
              "    <tr style=\"text-align: right;\">\n",
              "      <th></th>\n",
              "      <th>año</th>\n",
              "      <th>dep</th>\n",
              "      <th>dis</th>\n",
              "      <th>zon</th>\n",
              "      <th>loc</th>\n",
              "      <th>candidatura</th>\n",
              "      <th>lista</th>\n",
              "      <th>votos</th>\n",
              "      <th>nulos</th>\n",
              "      <th>blancos</th>\n",
              "      <th>total_votos</th>\n",
              "    </tr>\n",
              "  </thead>\n",
              "  <tbody>\n",
              "    <tr>\n",
              "      <th>count</th>\n",
              "      <td>390760.000000</td>\n",
              "      <td>390760.000000</td>\n",
              "      <td>390760.000000</td>\n",
              "      <td>382937.000000</td>\n",
              "      <td>382937.000000</td>\n",
              "      <td>390760.000000</td>\n",
              "      <td>389558.000000</td>\n",
              "      <td>390760.000000</td>\n",
              "      <td>390760.000000</td>\n",
              "      <td>390760.000000</td>\n",
              "      <td>390760.000000</td>\n",
              "    </tr>\n",
              "    <tr>\n",
              "      <th>mean</th>\n",
              "      <td>2011.688832</td>\n",
              "      <td>7.228603</td>\n",
              "      <td>11.742717</td>\n",
              "      <td>0.524755</td>\n",
              "      <td>161.679579</td>\n",
              "      <td>3.055441</td>\n",
              "      <td>57.275227</td>\n",
              "      <td>173.300717</td>\n",
              "      <td>64.454862</td>\n",
              "      <td>93.737788</td>\n",
              "      <td>2244.733775</td>\n",
              "    </tr>\n",
              "    <tr>\n",
              "      <th>std</th>\n",
              "      <td>5.622785</td>\n",
              "      <td>4.588604</td>\n",
              "      <td>12.169237</td>\n",
              "      <td>1.337198</td>\n",
              "      <td>230.361750</td>\n",
              "      <td>1.534589</td>\n",
              "      <td>165.909665</td>\n",
              "      <td>743.632278</td>\n",
              "      <td>85.683357</td>\n",
              "      <td>116.199521</td>\n",
              "      <td>2737.604044</td>\n",
              "    </tr>\n",
              "    <tr>\n",
              "      <th>min</th>\n",
              "      <td>1996.000000</td>\n",
              "      <td>0.000000</td>\n",
              "      <td>0.000000</td>\n",
              "      <td>0.000000</td>\n",
              "      <td>1.000000</td>\n",
              "      <td>1.000000</td>\n",
              "      <td>1.000000</td>\n",
              "      <td>0.000000</td>\n",
              "      <td>0.000000</td>\n",
              "      <td>0.000000</td>\n",
              "      <td>0.000000</td>\n",
              "    </tr>\n",
              "    <tr>\n",
              "      <th>25%</th>\n",
              "      <td>2008.000000</td>\n",
              "      <td>3.000000</td>\n",
              "      <td>0.000000</td>\n",
              "      <td>0.000000</td>\n",
              "      <td>2.000000</td>\n",
              "      <td>2.000000</td>\n",
              "      <td>6.000000</td>\n",
              "      <td>2.000000</td>\n",
              "      <td>20.000000</td>\n",
              "      <td>26.000000</td>\n",
              "      <td>925.000000</td>\n",
              "    </tr>\n",
              "    <tr>\n",
              "      <th>50%</th>\n",
              "      <td>2013.000000</td>\n",
              "      <td>8.000000</td>\n",
              "      <td>9.000000</td>\n",
              "      <td>0.000000</td>\n",
              "      <td>7.000000</td>\n",
              "      <td>3.000000</td>\n",
              "      <td>12.000000</td>\n",
              "      <td>12.000000</td>\n",
              "      <td>44.000000</td>\n",
              "      <td>57.000000</td>\n",
              "      <td>1741.000000</td>\n",
              "    </tr>\n",
              "    <tr>\n",
              "      <th>75%</th>\n",
              "      <td>2018.000000</td>\n",
              "      <td>11.000000</td>\n",
              "      <td>19.000000</td>\n",
              "      <td>0.000000</td>\n",
              "      <td>501.000000</td>\n",
              "      <td>4.000000</td>\n",
              "      <td>40.000000</td>\n",
              "      <td>95.000000</td>\n",
              "      <td>85.000000</td>\n",
              "      <td>118.000000</td>\n",
              "      <td>2879.000000</td>\n",
              "    </tr>\n",
              "    <tr>\n",
              "      <th>max</th>\n",
              "      <td>2018.000000</td>\n",
              "      <td>18.000000</td>\n",
              "      <td>57.000000</td>\n",
              "      <td>6.000000</td>\n",
              "      <td>515.000000</td>\n",
              "      <td>6.000000</td>\n",
              "      <td>999.000000</td>\n",
              "      <td>120518.000000</td>\n",
              "      <td>11829.000000</td>\n",
              "      <td>3025.000000</td>\n",
              "      <td>236184.000000</td>\n",
              "    </tr>\n",
              "  </tbody>\n",
              "</table>\n",
              "</div>"
            ],
            "text/plain": [
              "                 año            dep  ...        blancos    total_votos\n",
              "count  390760.000000  390760.000000  ...  390760.000000  390760.000000\n",
              "mean     2011.688832       7.228603  ...      93.737788    2244.733775\n",
              "std         5.622785       4.588604  ...     116.199521    2737.604044\n",
              "min      1996.000000       0.000000  ...       0.000000       0.000000\n",
              "25%      2008.000000       3.000000  ...      26.000000     925.000000\n",
              "50%      2013.000000       8.000000  ...      57.000000    1741.000000\n",
              "75%      2018.000000      11.000000  ...     118.000000    2879.000000\n",
              "max      2018.000000      18.000000  ...    3025.000000  236184.000000\n",
              "\n",
              "[8 rows x 11 columns]"
            ]
          },
          "metadata": {
            "tags": []
          },
          "execution_count": 7
        }
      ]
    },
    {
      "cell_type": "code",
      "metadata": {
        "id": "KyfvHjSeDw7n"
      },
      "source": [
        ""
      ],
      "execution_count": 7,
      "outputs": []
    },
    {
      "cell_type": "markdown",
      "metadata": {
        "id": "upNMnD6_fVOR"
      },
      "source": [
        "Funcion para crear varables dummy\n",
        "\n",
        "Se va a crear variables dummy sobre el campo Tipo_eleccion que contine los valores General y Municipal para pasarlos a valor 0 y 1\n",
        "\n"
      ]
    },
    {
      "cell_type": "code",
      "metadata": {
        "id": "oJe1OhkWfVqk"
      },
      "source": [
        "def createDummies(df,var_name):\n",
        "  dummy = pd.get_dummies(df[var_name], prefix=var_name)\n",
        "  # df = df.drop(var_name, axis =1) borra el campo\n",
        "  df = pd.concat([df,dummy], axis = 1)\n",
        "  return df\n"
      ],
      "execution_count": 8,
      "outputs": []
    },
    {
      "cell_type": "code",
      "metadata": {
        "id": "jab2wJDsgsRl"
      },
      "source": [
        "generales_df = createDummies(elecciones_df, \"tipo_eleccion\")\n"
      ],
      "execution_count": 9,
      "outputs": []
    },
    {
      "cell_type": "code",
      "metadata": {
        "id": "MA6ZB9VcsQV5"
      },
      "source": [
        "#Filtrar  el dataset original elecciones_df y convertirlo en el dataframe de datos de eleccioiones Generales\n"
      ],
      "execution_count": 10,
      "outputs": []
    },
    {
      "cell_type": "markdown",
      "metadata": {
        "id": "hPZmTWmcsNJa"
      },
      "source": [
        ""
      ]
    },
    {
      "cell_type": "code",
      "metadata": {
        "id": "uXrnnu_HsOJW",
        "outputId": "56a806a8-614a-434d-d05a-48f38bef037b",
        "colab": {
          "base_uri": "https://localhost:8080/"
        }
      },
      "source": [
        "data2 = elecciones_df[elecciones_df[\"tipo_eleccion\"]==\"generales\"]\n",
        "\n",
        "data2.shape\n"
      ],
      "execution_count": 11,
      "outputs": [
        {
          "output_type": "execute_result",
          "data": {
            "text/plain": [
              "(347286, 19)"
            ]
          },
          "metadata": {
            "tags": []
          },
          "execution_count": 11
        }
      ]
    },
    {
      "cell_type": "code",
      "metadata": {
        "id": "gv1cZWX79AUR",
        "outputId": "25f55994-03e0-4a6e-d169-46c1af64d441",
        "colab": {
          "base_uri": "https://localhost:8080/",
          "height": 394
        }
      },
      "source": [
        "data2.head()"
      ],
      "execution_count": 12,
      "outputs": [
        {
          "output_type": "execute_result",
          "data": {
            "text/html": [
              "<div>\n",
              "<style scoped>\n",
              "    .dataframe tbody tr th:only-of-type {\n",
              "        vertical-align: middle;\n",
              "    }\n",
              "\n",
              "    .dataframe tbody tr th {\n",
              "        vertical-align: top;\n",
              "    }\n",
              "\n",
              "    .dataframe thead th {\n",
              "        text-align: right;\n",
              "    }\n",
              "</style>\n",
              "<table border=\"1\" class=\"dataframe\">\n",
              "  <thead>\n",
              "    <tr style=\"text-align: right;\">\n",
              "      <th></th>\n",
              "      <th>año</th>\n",
              "      <th>tipo_eleccion</th>\n",
              "      <th>dep</th>\n",
              "      <th>depdes</th>\n",
              "      <th>dis</th>\n",
              "      <th>disdes</th>\n",
              "      <th>zon</th>\n",
              "      <th>zondes</th>\n",
              "      <th>loc</th>\n",
              "      <th>locdes</th>\n",
              "      <th>candidatura</th>\n",
              "      <th>cand_desc</th>\n",
              "      <th>lista</th>\n",
              "      <th>siglas_lista</th>\n",
              "      <th>nombre_lista</th>\n",
              "      <th>votos</th>\n",
              "      <th>nulos</th>\n",
              "      <th>blancos</th>\n",
              "      <th>total_votos</th>\n",
              "    </tr>\n",
              "  </thead>\n",
              "  <tbody>\n",
              "    <tr>\n",
              "      <th>43474</th>\n",
              "      <td>1998</td>\n",
              "      <td>generales</td>\n",
              "      <td>0</td>\n",
              "      <td>CAPITAL</td>\n",
              "      <td>1</td>\n",
              "      <td>LA ENCARNACION</td>\n",
              "      <td>NaN</td>\n",
              "      <td>NaN</td>\n",
              "      <td>NaN</td>\n",
              "      <td>NaN</td>\n",
              "      <td>1</td>\n",
              "      <td>PRESIDENTE Y VICEPRESIDENTE DE LA RCA.</td>\n",
              "      <td>1.0</td>\n",
              "      <td>ANR</td>\n",
              "      <td>PARTIDO COLORADO</td>\n",
              "      <td>17729</td>\n",
              "      <td>537</td>\n",
              "      <td>230</td>\n",
              "      <td>33945</td>\n",
              "    </tr>\n",
              "    <tr>\n",
              "      <th>43475</th>\n",
              "      <td>1998</td>\n",
              "      <td>generales</td>\n",
              "      <td>0</td>\n",
              "      <td>CAPITAL</td>\n",
              "      <td>1</td>\n",
              "      <td>LA ENCARNACION</td>\n",
              "      <td>NaN</td>\n",
              "      <td>NaN</td>\n",
              "      <td>NaN</td>\n",
              "      <td>NaN</td>\n",
              "      <td>1</td>\n",
              "      <td>PRESIDENTE Y VICEPRESIDENTE DE LA RCA.</td>\n",
              "      <td>3.0</td>\n",
              "      <td>PRF</td>\n",
              "      <td>PARTIDO REVOLUCIONARIO FEBRERISTA</td>\n",
              "      <td>320</td>\n",
              "      <td>537</td>\n",
              "      <td>230</td>\n",
              "      <td>33945</td>\n",
              "    </tr>\n",
              "    <tr>\n",
              "      <th>43476</th>\n",
              "      <td>1998</td>\n",
              "      <td>generales</td>\n",
              "      <td>0</td>\n",
              "      <td>CAPITAL</td>\n",
              "      <td>1</td>\n",
              "      <td>LA ENCARNACION</td>\n",
              "      <td>NaN</td>\n",
              "      <td>NaN</td>\n",
              "      <td>NaN</td>\n",
              "      <td>NaN</td>\n",
              "      <td>1</td>\n",
              "      <td>PRESIDENTE Y VICEPRESIDENTE DE LA RCA.</td>\n",
              "      <td>6.0</td>\n",
              "      <td>BLANCO</td>\n",
              "      <td>PARTIDO BLANCO</td>\n",
              "      <td>145</td>\n",
              "      <td>537</td>\n",
              "      <td>230</td>\n",
              "      <td>33945</td>\n",
              "    </tr>\n",
              "    <tr>\n",
              "      <th>43477</th>\n",
              "      <td>1998</td>\n",
              "      <td>generales</td>\n",
              "      <td>0</td>\n",
              "      <td>CAPITAL</td>\n",
              "      <td>1</td>\n",
              "      <td>LA ENCARNACION</td>\n",
              "      <td>NaN</td>\n",
              "      <td>NaN</td>\n",
              "      <td>NaN</td>\n",
              "      <td>NaN</td>\n",
              "      <td>1</td>\n",
              "      <td>PRESIDENTE Y VICEPRESIDENTE DE LA RCA.</td>\n",
              "      <td>10.0</td>\n",
              "      <td>ALIANZA_D</td>\n",
              "      <td>ALIANZA DEMOCRATICA PLRA_PEN</td>\n",
              "      <td>14984</td>\n",
              "      <td>537</td>\n",
              "      <td>230</td>\n",
              "      <td>33945</td>\n",
              "    </tr>\n",
              "    <tr>\n",
              "      <th>43478</th>\n",
              "      <td>1998</td>\n",
              "      <td>generales</td>\n",
              "      <td>0</td>\n",
              "      <td>CAPITAL</td>\n",
              "      <td>2</td>\n",
              "      <td>LA CATEDRAL</td>\n",
              "      <td>NaN</td>\n",
              "      <td>NaN</td>\n",
              "      <td>NaN</td>\n",
              "      <td>NaN</td>\n",
              "      <td>1</td>\n",
              "      <td>PRESIDENTE Y VICEPRESIDENTE DE LA RCA.</td>\n",
              "      <td>1.0</td>\n",
              "      <td>ANR</td>\n",
              "      <td>PARTIDO COLORADO</td>\n",
              "      <td>5770</td>\n",
              "      <td>164</td>\n",
              "      <td>63</td>\n",
              "      <td>11112</td>\n",
              "    </tr>\n",
              "  </tbody>\n",
              "</table>\n",
              "</div>"
            ],
            "text/plain": [
              "        año tipo_eleccion  dep   depdes  ...  votos nulos  blancos total_votos\n",
              "43474  1998     generales    0  CAPITAL  ...  17729   537      230       33945\n",
              "43475  1998     generales    0  CAPITAL  ...    320   537      230       33945\n",
              "43476  1998     generales    0  CAPITAL  ...    145   537      230       33945\n",
              "43477  1998     generales    0  CAPITAL  ...  14984   537      230       33945\n",
              "43478  1998     generales    0  CAPITAL  ...   5770   164       63       11112\n",
              "\n",
              "[5 rows x 19 columns]"
            ]
          },
          "metadata": {
            "tags": []
          },
          "execution_count": 12
        }
      ]
    },
    {
      "cell_type": "code",
      "metadata": {
        "id": "Lg2AMO079Eg7"
      },
      "source": [
        "data2 = data2[data2[\"candidatura\"]==1]"
      ],
      "execution_count": 13,
      "outputs": []
    },
    {
      "cell_type": "code",
      "metadata": {
        "id": "Y05FDJ0Ds_9A",
        "outputId": "58d8c948-e0d1-4ce2-f4f6-1a3e5daa4ff2",
        "colab": {
          "base_uri": "https://localhost:8080/",
          "height": 394
        }
      },
      "source": [
        "data2.head()"
      ],
      "execution_count": 14,
      "outputs": [
        {
          "output_type": "execute_result",
          "data": {
            "text/html": [
              "<div>\n",
              "<style scoped>\n",
              "    .dataframe tbody tr th:only-of-type {\n",
              "        vertical-align: middle;\n",
              "    }\n",
              "\n",
              "    .dataframe tbody tr th {\n",
              "        vertical-align: top;\n",
              "    }\n",
              "\n",
              "    .dataframe thead th {\n",
              "        text-align: right;\n",
              "    }\n",
              "</style>\n",
              "<table border=\"1\" class=\"dataframe\">\n",
              "  <thead>\n",
              "    <tr style=\"text-align: right;\">\n",
              "      <th></th>\n",
              "      <th>año</th>\n",
              "      <th>tipo_eleccion</th>\n",
              "      <th>dep</th>\n",
              "      <th>depdes</th>\n",
              "      <th>dis</th>\n",
              "      <th>disdes</th>\n",
              "      <th>zon</th>\n",
              "      <th>zondes</th>\n",
              "      <th>loc</th>\n",
              "      <th>locdes</th>\n",
              "      <th>candidatura</th>\n",
              "      <th>cand_desc</th>\n",
              "      <th>lista</th>\n",
              "      <th>siglas_lista</th>\n",
              "      <th>nombre_lista</th>\n",
              "      <th>votos</th>\n",
              "      <th>nulos</th>\n",
              "      <th>blancos</th>\n",
              "      <th>total_votos</th>\n",
              "    </tr>\n",
              "  </thead>\n",
              "  <tbody>\n",
              "    <tr>\n",
              "      <th>43474</th>\n",
              "      <td>1998</td>\n",
              "      <td>generales</td>\n",
              "      <td>0</td>\n",
              "      <td>CAPITAL</td>\n",
              "      <td>1</td>\n",
              "      <td>LA ENCARNACION</td>\n",
              "      <td>NaN</td>\n",
              "      <td>NaN</td>\n",
              "      <td>NaN</td>\n",
              "      <td>NaN</td>\n",
              "      <td>1</td>\n",
              "      <td>PRESIDENTE Y VICEPRESIDENTE DE LA RCA.</td>\n",
              "      <td>1.0</td>\n",
              "      <td>ANR</td>\n",
              "      <td>PARTIDO COLORADO</td>\n",
              "      <td>17729</td>\n",
              "      <td>537</td>\n",
              "      <td>230</td>\n",
              "      <td>33945</td>\n",
              "    </tr>\n",
              "    <tr>\n",
              "      <th>43475</th>\n",
              "      <td>1998</td>\n",
              "      <td>generales</td>\n",
              "      <td>0</td>\n",
              "      <td>CAPITAL</td>\n",
              "      <td>1</td>\n",
              "      <td>LA ENCARNACION</td>\n",
              "      <td>NaN</td>\n",
              "      <td>NaN</td>\n",
              "      <td>NaN</td>\n",
              "      <td>NaN</td>\n",
              "      <td>1</td>\n",
              "      <td>PRESIDENTE Y VICEPRESIDENTE DE LA RCA.</td>\n",
              "      <td>3.0</td>\n",
              "      <td>PRF</td>\n",
              "      <td>PARTIDO REVOLUCIONARIO FEBRERISTA</td>\n",
              "      <td>320</td>\n",
              "      <td>537</td>\n",
              "      <td>230</td>\n",
              "      <td>33945</td>\n",
              "    </tr>\n",
              "    <tr>\n",
              "      <th>43476</th>\n",
              "      <td>1998</td>\n",
              "      <td>generales</td>\n",
              "      <td>0</td>\n",
              "      <td>CAPITAL</td>\n",
              "      <td>1</td>\n",
              "      <td>LA ENCARNACION</td>\n",
              "      <td>NaN</td>\n",
              "      <td>NaN</td>\n",
              "      <td>NaN</td>\n",
              "      <td>NaN</td>\n",
              "      <td>1</td>\n",
              "      <td>PRESIDENTE Y VICEPRESIDENTE DE LA RCA.</td>\n",
              "      <td>6.0</td>\n",
              "      <td>BLANCO</td>\n",
              "      <td>PARTIDO BLANCO</td>\n",
              "      <td>145</td>\n",
              "      <td>537</td>\n",
              "      <td>230</td>\n",
              "      <td>33945</td>\n",
              "    </tr>\n",
              "    <tr>\n",
              "      <th>43477</th>\n",
              "      <td>1998</td>\n",
              "      <td>generales</td>\n",
              "      <td>0</td>\n",
              "      <td>CAPITAL</td>\n",
              "      <td>1</td>\n",
              "      <td>LA ENCARNACION</td>\n",
              "      <td>NaN</td>\n",
              "      <td>NaN</td>\n",
              "      <td>NaN</td>\n",
              "      <td>NaN</td>\n",
              "      <td>1</td>\n",
              "      <td>PRESIDENTE Y VICEPRESIDENTE DE LA RCA.</td>\n",
              "      <td>10.0</td>\n",
              "      <td>ALIANZA_D</td>\n",
              "      <td>ALIANZA DEMOCRATICA PLRA_PEN</td>\n",
              "      <td>14984</td>\n",
              "      <td>537</td>\n",
              "      <td>230</td>\n",
              "      <td>33945</td>\n",
              "    </tr>\n",
              "    <tr>\n",
              "      <th>43478</th>\n",
              "      <td>1998</td>\n",
              "      <td>generales</td>\n",
              "      <td>0</td>\n",
              "      <td>CAPITAL</td>\n",
              "      <td>2</td>\n",
              "      <td>LA CATEDRAL</td>\n",
              "      <td>NaN</td>\n",
              "      <td>NaN</td>\n",
              "      <td>NaN</td>\n",
              "      <td>NaN</td>\n",
              "      <td>1</td>\n",
              "      <td>PRESIDENTE Y VICEPRESIDENTE DE LA RCA.</td>\n",
              "      <td>1.0</td>\n",
              "      <td>ANR</td>\n",
              "      <td>PARTIDO COLORADO</td>\n",
              "      <td>5770</td>\n",
              "      <td>164</td>\n",
              "      <td>63</td>\n",
              "      <td>11112</td>\n",
              "    </tr>\n",
              "  </tbody>\n",
              "</table>\n",
              "</div>"
            ],
            "text/plain": [
              "        año tipo_eleccion  dep   depdes  ...  votos nulos  blancos total_votos\n",
              "43474  1998     generales    0  CAPITAL  ...  17729   537      230       33945\n",
              "43475  1998     generales    0  CAPITAL  ...    320   537      230       33945\n",
              "43476  1998     generales    0  CAPITAL  ...    145   537      230       33945\n",
              "43477  1998     generales    0  CAPITAL  ...  14984   537      230       33945\n",
              "43478  1998     generales    0  CAPITAL  ...   5770   164       63       11112\n",
              "\n",
              "[5 rows x 19 columns]"
            ]
          },
          "metadata": {
            "tags": []
          },
          "execution_count": 14
        }
      ]
    },
    {
      "cell_type": "code",
      "metadata": {
        "id": "xXweT0gAhFBH"
      },
      "source": [
        "columnas_seleccionadas = ['año','dep', 'depdes', 'dis', 'disdes', 'zon',\n",
        "       'zondes', 'loc', 'locdes', 'candidatura', 'cand_desc', 'lista',\n",
        "       'siglas_lista', 'nombre_lista', 'votos', 'nulos', 'blancos',\n",
        "       'total_votos']\n",
        "generales_df = data2[columnas_seleccionadas]    \n",
        "   \n"
      ],
      "execution_count": 15,
      "outputs": []
    },
    {
      "cell_type": "code",
      "metadata": {
        "id": "WlxWn-ZjvIao",
        "outputId": "05112e78-a630-4f5f-d87c-484da6e340b0",
        "colab": {
          "base_uri": "https://localhost:8080/"
        }
      },
      "source": [
        "generales_df.shape"
      ],
      "execution_count": 16,
      "outputs": [
        {
          "output_type": "execute_result",
          "data": {
            "text/plain": [
              "(39713, 18)"
            ]
          },
          "metadata": {
            "tags": []
          },
          "execution_count": 16
        }
      ]
    },
    {
      "cell_type": "code",
      "metadata": {
        "id": "33bxsPU0u16T",
        "outputId": "2a291630-5d74-4874-f4cb-89b3639fe5a4",
        "colab": {
          "base_uri": "https://localhost:8080/",
          "height": 1000
        }
      },
      "source": [
        "generales_df.head(50)"
      ],
      "execution_count": 17,
      "outputs": [
        {
          "output_type": "execute_result",
          "data": {
            "text/html": [
              "<div>\n",
              "<style scoped>\n",
              "    .dataframe tbody tr th:only-of-type {\n",
              "        vertical-align: middle;\n",
              "    }\n",
              "\n",
              "    .dataframe tbody tr th {\n",
              "        vertical-align: top;\n",
              "    }\n",
              "\n",
              "    .dataframe thead th {\n",
              "        text-align: right;\n",
              "    }\n",
              "</style>\n",
              "<table border=\"1\" class=\"dataframe\">\n",
              "  <thead>\n",
              "    <tr style=\"text-align: right;\">\n",
              "      <th></th>\n",
              "      <th>año</th>\n",
              "      <th>dep</th>\n",
              "      <th>depdes</th>\n",
              "      <th>dis</th>\n",
              "      <th>disdes</th>\n",
              "      <th>zon</th>\n",
              "      <th>zondes</th>\n",
              "      <th>loc</th>\n",
              "      <th>locdes</th>\n",
              "      <th>candidatura</th>\n",
              "      <th>cand_desc</th>\n",
              "      <th>lista</th>\n",
              "      <th>siglas_lista</th>\n",
              "      <th>nombre_lista</th>\n",
              "      <th>votos</th>\n",
              "      <th>nulos</th>\n",
              "      <th>blancos</th>\n",
              "      <th>total_votos</th>\n",
              "    </tr>\n",
              "  </thead>\n",
              "  <tbody>\n",
              "    <tr>\n",
              "      <th>43474</th>\n",
              "      <td>1998</td>\n",
              "      <td>0</td>\n",
              "      <td>CAPITAL</td>\n",
              "      <td>1</td>\n",
              "      <td>LA ENCARNACION</td>\n",
              "      <td>NaN</td>\n",
              "      <td>NaN</td>\n",
              "      <td>NaN</td>\n",
              "      <td>NaN</td>\n",
              "      <td>1</td>\n",
              "      <td>PRESIDENTE Y VICEPRESIDENTE DE LA RCA.</td>\n",
              "      <td>1.0</td>\n",
              "      <td>ANR</td>\n",
              "      <td>PARTIDO COLORADO</td>\n",
              "      <td>17729</td>\n",
              "      <td>537</td>\n",
              "      <td>230</td>\n",
              "      <td>33945</td>\n",
              "    </tr>\n",
              "    <tr>\n",
              "      <th>43475</th>\n",
              "      <td>1998</td>\n",
              "      <td>0</td>\n",
              "      <td>CAPITAL</td>\n",
              "      <td>1</td>\n",
              "      <td>LA ENCARNACION</td>\n",
              "      <td>NaN</td>\n",
              "      <td>NaN</td>\n",
              "      <td>NaN</td>\n",
              "      <td>NaN</td>\n",
              "      <td>1</td>\n",
              "      <td>PRESIDENTE Y VICEPRESIDENTE DE LA RCA.</td>\n",
              "      <td>3.0</td>\n",
              "      <td>PRF</td>\n",
              "      <td>PARTIDO REVOLUCIONARIO FEBRERISTA</td>\n",
              "      <td>320</td>\n",
              "      <td>537</td>\n",
              "      <td>230</td>\n",
              "      <td>33945</td>\n",
              "    </tr>\n",
              "    <tr>\n",
              "      <th>43476</th>\n",
              "      <td>1998</td>\n",
              "      <td>0</td>\n",
              "      <td>CAPITAL</td>\n",
              "      <td>1</td>\n",
              "      <td>LA ENCARNACION</td>\n",
              "      <td>NaN</td>\n",
              "      <td>NaN</td>\n",
              "      <td>NaN</td>\n",
              "      <td>NaN</td>\n",
              "      <td>1</td>\n",
              "      <td>PRESIDENTE Y VICEPRESIDENTE DE LA RCA.</td>\n",
              "      <td>6.0</td>\n",
              "      <td>BLANCO</td>\n",
              "      <td>PARTIDO BLANCO</td>\n",
              "      <td>145</td>\n",
              "      <td>537</td>\n",
              "      <td>230</td>\n",
              "      <td>33945</td>\n",
              "    </tr>\n",
              "    <tr>\n",
              "      <th>43477</th>\n",
              "      <td>1998</td>\n",
              "      <td>0</td>\n",
              "      <td>CAPITAL</td>\n",
              "      <td>1</td>\n",
              "      <td>LA ENCARNACION</td>\n",
              "      <td>NaN</td>\n",
              "      <td>NaN</td>\n",
              "      <td>NaN</td>\n",
              "      <td>NaN</td>\n",
              "      <td>1</td>\n",
              "      <td>PRESIDENTE Y VICEPRESIDENTE DE LA RCA.</td>\n",
              "      <td>10.0</td>\n",
              "      <td>ALIANZA_D</td>\n",
              "      <td>ALIANZA DEMOCRATICA PLRA_PEN</td>\n",
              "      <td>14984</td>\n",
              "      <td>537</td>\n",
              "      <td>230</td>\n",
              "      <td>33945</td>\n",
              "    </tr>\n",
              "    <tr>\n",
              "      <th>43478</th>\n",
              "      <td>1998</td>\n",
              "      <td>0</td>\n",
              "      <td>CAPITAL</td>\n",
              "      <td>2</td>\n",
              "      <td>LA CATEDRAL</td>\n",
              "      <td>NaN</td>\n",
              "      <td>NaN</td>\n",
              "      <td>NaN</td>\n",
              "      <td>NaN</td>\n",
              "      <td>1</td>\n",
              "      <td>PRESIDENTE Y VICEPRESIDENTE DE LA RCA.</td>\n",
              "      <td>1.0</td>\n",
              "      <td>ANR</td>\n",
              "      <td>PARTIDO COLORADO</td>\n",
              "      <td>5770</td>\n",
              "      <td>164</td>\n",
              "      <td>63</td>\n",
              "      <td>11112</td>\n",
              "    </tr>\n",
              "    <tr>\n",
              "      <th>43479</th>\n",
              "      <td>1998</td>\n",
              "      <td>0</td>\n",
              "      <td>CAPITAL</td>\n",
              "      <td>2</td>\n",
              "      <td>LA CATEDRAL</td>\n",
              "      <td>NaN</td>\n",
              "      <td>NaN</td>\n",
              "      <td>NaN</td>\n",
              "      <td>NaN</td>\n",
              "      <td>1</td>\n",
              "      <td>PRESIDENTE Y VICEPRESIDENTE DE LA RCA.</td>\n",
              "      <td>3.0</td>\n",
              "      <td>PRF</td>\n",
              "      <td>PARTIDO REVOLUCIONARIO FEBRERISTA</td>\n",
              "      <td>124</td>\n",
              "      <td>164</td>\n",
              "      <td>63</td>\n",
              "      <td>11112</td>\n",
              "    </tr>\n",
              "    <tr>\n",
              "      <th>43480</th>\n",
              "      <td>1998</td>\n",
              "      <td>0</td>\n",
              "      <td>CAPITAL</td>\n",
              "      <td>2</td>\n",
              "      <td>LA CATEDRAL</td>\n",
              "      <td>NaN</td>\n",
              "      <td>NaN</td>\n",
              "      <td>NaN</td>\n",
              "      <td>NaN</td>\n",
              "      <td>1</td>\n",
              "      <td>PRESIDENTE Y VICEPRESIDENTE DE LA RCA.</td>\n",
              "      <td>6.0</td>\n",
              "      <td>BLANCO</td>\n",
              "      <td>PARTIDO BLANCO</td>\n",
              "      <td>22</td>\n",
              "      <td>164</td>\n",
              "      <td>63</td>\n",
              "      <td>11112</td>\n",
              "    </tr>\n",
              "    <tr>\n",
              "      <th>43481</th>\n",
              "      <td>1998</td>\n",
              "      <td>0</td>\n",
              "      <td>CAPITAL</td>\n",
              "      <td>2</td>\n",
              "      <td>LA CATEDRAL</td>\n",
              "      <td>NaN</td>\n",
              "      <td>NaN</td>\n",
              "      <td>NaN</td>\n",
              "      <td>NaN</td>\n",
              "      <td>1</td>\n",
              "      <td>PRESIDENTE Y VICEPRESIDENTE DE LA RCA.</td>\n",
              "      <td>10.0</td>\n",
              "      <td>ALIANZA_D</td>\n",
              "      <td>ALIANZA DEMOCRATICA PLRA_PEN</td>\n",
              "      <td>4969</td>\n",
              "      <td>164</td>\n",
              "      <td>63</td>\n",
              "      <td>11112</td>\n",
              "    </tr>\n",
              "    <tr>\n",
              "      <th>43482</th>\n",
              "      <td>1998</td>\n",
              "      <td>0</td>\n",
              "      <td>CAPITAL</td>\n",
              "      <td>3</td>\n",
              "      <td>SAN ROQUE</td>\n",
              "      <td>NaN</td>\n",
              "      <td>NaN</td>\n",
              "      <td>NaN</td>\n",
              "      <td>NaN</td>\n",
              "      <td>1</td>\n",
              "      <td>PRESIDENTE Y VICEPRESIDENTE DE LA RCA.</td>\n",
              "      <td>1.0</td>\n",
              "      <td>ANR</td>\n",
              "      <td>PARTIDO COLORADO</td>\n",
              "      <td>38857</td>\n",
              "      <td>1320</td>\n",
              "      <td>519</td>\n",
              "      <td>76400</td>\n",
              "    </tr>\n",
              "    <tr>\n",
              "      <th>43483</th>\n",
              "      <td>1998</td>\n",
              "      <td>0</td>\n",
              "      <td>CAPITAL</td>\n",
              "      <td>3</td>\n",
              "      <td>SAN ROQUE</td>\n",
              "      <td>NaN</td>\n",
              "      <td>NaN</td>\n",
              "      <td>NaN</td>\n",
              "      <td>NaN</td>\n",
              "      <td>1</td>\n",
              "      <td>PRESIDENTE Y VICEPRESIDENTE DE LA RCA.</td>\n",
              "      <td>3.0</td>\n",
              "      <td>PRF</td>\n",
              "      <td>PARTIDO REVOLUCIONARIO FEBRERISTA</td>\n",
              "      <td>709</td>\n",
              "      <td>1320</td>\n",
              "      <td>519</td>\n",
              "      <td>76400</td>\n",
              "    </tr>\n",
              "    <tr>\n",
              "      <th>43484</th>\n",
              "      <td>1998</td>\n",
              "      <td>0</td>\n",
              "      <td>CAPITAL</td>\n",
              "      <td>3</td>\n",
              "      <td>SAN ROQUE</td>\n",
              "      <td>NaN</td>\n",
              "      <td>NaN</td>\n",
              "      <td>NaN</td>\n",
              "      <td>NaN</td>\n",
              "      <td>1</td>\n",
              "      <td>PRESIDENTE Y VICEPRESIDENTE DE LA RCA.</td>\n",
              "      <td>6.0</td>\n",
              "      <td>BLANCO</td>\n",
              "      <td>PARTIDO BLANCO</td>\n",
              "      <td>162</td>\n",
              "      <td>1320</td>\n",
              "      <td>519</td>\n",
              "      <td>76400</td>\n",
              "    </tr>\n",
              "    <tr>\n",
              "      <th>43485</th>\n",
              "      <td>1998</td>\n",
              "      <td>0</td>\n",
              "      <td>CAPITAL</td>\n",
              "      <td>3</td>\n",
              "      <td>SAN ROQUE</td>\n",
              "      <td>NaN</td>\n",
              "      <td>NaN</td>\n",
              "      <td>NaN</td>\n",
              "      <td>NaN</td>\n",
              "      <td>1</td>\n",
              "      <td>PRESIDENTE Y VICEPRESIDENTE DE LA RCA.</td>\n",
              "      <td>10.0</td>\n",
              "      <td>ALIANZA_D</td>\n",
              "      <td>ALIANZA DEMOCRATICA PLRA_PEN</td>\n",
              "      <td>34833</td>\n",
              "      <td>1320</td>\n",
              "      <td>519</td>\n",
              "      <td>76400</td>\n",
              "    </tr>\n",
              "    <tr>\n",
              "      <th>43486</th>\n",
              "      <td>1998</td>\n",
              "      <td>0</td>\n",
              "      <td>CAPITAL</td>\n",
              "      <td>4</td>\n",
              "      <td>LA RECOLETA</td>\n",
              "      <td>NaN</td>\n",
              "      <td>NaN</td>\n",
              "      <td>NaN</td>\n",
              "      <td>NaN</td>\n",
              "      <td>1</td>\n",
              "      <td>PRESIDENTE Y VICEPRESIDENTE DE LA RCA.</td>\n",
              "      <td>1.0</td>\n",
              "      <td>ANR</td>\n",
              "      <td>PARTIDO COLORADO</td>\n",
              "      <td>37670</td>\n",
              "      <td>1059</td>\n",
              "      <td>489</td>\n",
              "      <td>71472</td>\n",
              "    </tr>\n",
              "    <tr>\n",
              "      <th>43487</th>\n",
              "      <td>1998</td>\n",
              "      <td>0</td>\n",
              "      <td>CAPITAL</td>\n",
              "      <td>4</td>\n",
              "      <td>LA RECOLETA</td>\n",
              "      <td>NaN</td>\n",
              "      <td>NaN</td>\n",
              "      <td>NaN</td>\n",
              "      <td>NaN</td>\n",
              "      <td>1</td>\n",
              "      <td>PRESIDENTE Y VICEPRESIDENTE DE LA RCA.</td>\n",
              "      <td>3.0</td>\n",
              "      <td>PRF</td>\n",
              "      <td>PARTIDO REVOLUCIONARIO FEBRERISTA</td>\n",
              "      <td>629</td>\n",
              "      <td>1059</td>\n",
              "      <td>489</td>\n",
              "      <td>71472</td>\n",
              "    </tr>\n",
              "    <tr>\n",
              "      <th>43488</th>\n",
              "      <td>1998</td>\n",
              "      <td>0</td>\n",
              "      <td>CAPITAL</td>\n",
              "      <td>4</td>\n",
              "      <td>LA RECOLETA</td>\n",
              "      <td>NaN</td>\n",
              "      <td>NaN</td>\n",
              "      <td>NaN</td>\n",
              "      <td>NaN</td>\n",
              "      <td>1</td>\n",
              "      <td>PRESIDENTE Y VICEPRESIDENTE DE LA RCA.</td>\n",
              "      <td>6.0</td>\n",
              "      <td>BLANCO</td>\n",
              "      <td>PARTIDO BLANCO</td>\n",
              "      <td>149</td>\n",
              "      <td>1059</td>\n",
              "      <td>489</td>\n",
              "      <td>71472</td>\n",
              "    </tr>\n",
              "    <tr>\n",
              "      <th>43489</th>\n",
              "      <td>1998</td>\n",
              "      <td>0</td>\n",
              "      <td>CAPITAL</td>\n",
              "      <td>4</td>\n",
              "      <td>LA RECOLETA</td>\n",
              "      <td>NaN</td>\n",
              "      <td>NaN</td>\n",
              "      <td>NaN</td>\n",
              "      <td>NaN</td>\n",
              "      <td>1</td>\n",
              "      <td>PRESIDENTE Y VICEPRESIDENTE DE LA RCA.</td>\n",
              "      <td>10.0</td>\n",
              "      <td>ALIANZA_D</td>\n",
              "      <td>ALIANZA DEMOCRATICA PLRA_PEN</td>\n",
              "      <td>31476</td>\n",
              "      <td>1059</td>\n",
              "      <td>489</td>\n",
              "      <td>71472</td>\n",
              "    </tr>\n",
              "    <tr>\n",
              "      <th>43490</th>\n",
              "      <td>1998</td>\n",
              "      <td>0</td>\n",
              "      <td>CAPITAL</td>\n",
              "      <td>5</td>\n",
              "      <td>SANTISIMA TRINIDAD</td>\n",
              "      <td>NaN</td>\n",
              "      <td>NaN</td>\n",
              "      <td>NaN</td>\n",
              "      <td>NaN</td>\n",
              "      <td>1</td>\n",
              "      <td>PRESIDENTE Y VICEPRESIDENTE DE LA RCA.</td>\n",
              "      <td>1.0</td>\n",
              "      <td>ANR</td>\n",
              "      <td>PARTIDO COLORADO</td>\n",
              "      <td>30246</td>\n",
              "      <td>917</td>\n",
              "      <td>355</td>\n",
              "      <td>53082</td>\n",
              "    </tr>\n",
              "    <tr>\n",
              "      <th>43491</th>\n",
              "      <td>1998</td>\n",
              "      <td>0</td>\n",
              "      <td>CAPITAL</td>\n",
              "      <td>5</td>\n",
              "      <td>SANTISIMA TRINIDAD</td>\n",
              "      <td>NaN</td>\n",
              "      <td>NaN</td>\n",
              "      <td>NaN</td>\n",
              "      <td>NaN</td>\n",
              "      <td>1</td>\n",
              "      <td>PRESIDENTE Y VICEPRESIDENTE DE LA RCA.</td>\n",
              "      <td>3.0</td>\n",
              "      <td>PRF</td>\n",
              "      <td>PARTIDO REVOLUCIONARIO FEBRERISTA</td>\n",
              "      <td>416</td>\n",
              "      <td>917</td>\n",
              "      <td>355</td>\n",
              "      <td>53082</td>\n",
              "    </tr>\n",
              "    <tr>\n",
              "      <th>43492</th>\n",
              "      <td>1998</td>\n",
              "      <td>0</td>\n",
              "      <td>CAPITAL</td>\n",
              "      <td>5</td>\n",
              "      <td>SANTISIMA TRINIDAD</td>\n",
              "      <td>NaN</td>\n",
              "      <td>NaN</td>\n",
              "      <td>NaN</td>\n",
              "      <td>NaN</td>\n",
              "      <td>1</td>\n",
              "      <td>PRESIDENTE Y VICEPRESIDENTE DE LA RCA.</td>\n",
              "      <td>6.0</td>\n",
              "      <td>BLANCO</td>\n",
              "      <td>PARTIDO BLANCO</td>\n",
              "      <td>121</td>\n",
              "      <td>917</td>\n",
              "      <td>355</td>\n",
              "      <td>53082</td>\n",
              "    </tr>\n",
              "    <tr>\n",
              "      <th>43493</th>\n",
              "      <td>1998</td>\n",
              "      <td>0</td>\n",
              "      <td>CAPITAL</td>\n",
              "      <td>5</td>\n",
              "      <td>SANTISIMA TRINIDAD</td>\n",
              "      <td>NaN</td>\n",
              "      <td>NaN</td>\n",
              "      <td>NaN</td>\n",
              "      <td>NaN</td>\n",
              "      <td>1</td>\n",
              "      <td>PRESIDENTE Y VICEPRESIDENTE DE LA RCA.</td>\n",
              "      <td>10.0</td>\n",
              "      <td>ALIANZA_D</td>\n",
              "      <td>ALIANZA DEMOCRATICA PLRA_PEN</td>\n",
              "      <td>21027</td>\n",
              "      <td>917</td>\n",
              "      <td>355</td>\n",
              "      <td>53082</td>\n",
              "    </tr>\n",
              "    <tr>\n",
              "      <th>43494</th>\n",
              "      <td>1998</td>\n",
              "      <td>0</td>\n",
              "      <td>CAPITAL</td>\n",
              "      <td>6</td>\n",
              "      <td>ZEBALLOS CUE</td>\n",
              "      <td>NaN</td>\n",
              "      <td>NaN</td>\n",
              "      <td>NaN</td>\n",
              "      <td>NaN</td>\n",
              "      <td>1</td>\n",
              "      <td>PRESIDENTE Y VICEPRESIDENTE DE LA RCA.</td>\n",
              "      <td>1.0</td>\n",
              "      <td>ANR</td>\n",
              "      <td>PARTIDO COLORADO</td>\n",
              "      <td>3261</td>\n",
              "      <td>61</td>\n",
              "      <td>31</td>\n",
              "      <td>5236</td>\n",
              "    </tr>\n",
              "    <tr>\n",
              "      <th>43495</th>\n",
              "      <td>1998</td>\n",
              "      <td>0</td>\n",
              "      <td>CAPITAL</td>\n",
              "      <td>6</td>\n",
              "      <td>ZEBALLOS CUE</td>\n",
              "      <td>NaN</td>\n",
              "      <td>NaN</td>\n",
              "      <td>NaN</td>\n",
              "      <td>NaN</td>\n",
              "      <td>1</td>\n",
              "      <td>PRESIDENTE Y VICEPRESIDENTE DE LA RCA.</td>\n",
              "      <td>3.0</td>\n",
              "      <td>PRF</td>\n",
              "      <td>PARTIDO REVOLUCIONARIO FEBRERISTA</td>\n",
              "      <td>24</td>\n",
              "      <td>61</td>\n",
              "      <td>31</td>\n",
              "      <td>5236</td>\n",
              "    </tr>\n",
              "    <tr>\n",
              "      <th>43496</th>\n",
              "      <td>1998</td>\n",
              "      <td>0</td>\n",
              "      <td>CAPITAL</td>\n",
              "      <td>6</td>\n",
              "      <td>ZEBALLOS CUE</td>\n",
              "      <td>NaN</td>\n",
              "      <td>NaN</td>\n",
              "      <td>NaN</td>\n",
              "      <td>NaN</td>\n",
              "      <td>1</td>\n",
              "      <td>PRESIDENTE Y VICEPRESIDENTE DE LA RCA.</td>\n",
              "      <td>6.0</td>\n",
              "      <td>BLANCO</td>\n",
              "      <td>PARTIDO BLANCO</td>\n",
              "      <td>15</td>\n",
              "      <td>61</td>\n",
              "      <td>31</td>\n",
              "      <td>5236</td>\n",
              "    </tr>\n",
              "    <tr>\n",
              "      <th>43497</th>\n",
              "      <td>1998</td>\n",
              "      <td>0</td>\n",
              "      <td>CAPITAL</td>\n",
              "      <td>6</td>\n",
              "      <td>ZEBALLOS CUE</td>\n",
              "      <td>NaN</td>\n",
              "      <td>NaN</td>\n",
              "      <td>NaN</td>\n",
              "      <td>NaN</td>\n",
              "      <td>1</td>\n",
              "      <td>PRESIDENTE Y VICEPRESIDENTE DE LA RCA.</td>\n",
              "      <td>10.0</td>\n",
              "      <td>ALIANZA_D</td>\n",
              "      <td>ALIANZA DEMOCRATICA PLRA_PEN</td>\n",
              "      <td>1844</td>\n",
              "      <td>61</td>\n",
              "      <td>31</td>\n",
              "      <td>5236</td>\n",
              "    </tr>\n",
              "    <tr>\n",
              "      <th>43498</th>\n",
              "      <td>1998</td>\n",
              "      <td>1</td>\n",
              "      <td>CONCEPCION</td>\n",
              "      <td>1</td>\n",
              "      <td>BELEN</td>\n",
              "      <td>NaN</td>\n",
              "      <td>NaN</td>\n",
              "      <td>NaN</td>\n",
              "      <td>NaN</td>\n",
              "      <td>1</td>\n",
              "      <td>PRESIDENTE Y VICEPRESIDENTE DE LA RCA.</td>\n",
              "      <td>1.0</td>\n",
              "      <td>ANR</td>\n",
              "      <td>PARTIDO COLORADO</td>\n",
              "      <td>1370</td>\n",
              "      <td>45</td>\n",
              "      <td>12</td>\n",
              "      <td>2803</td>\n",
              "    </tr>\n",
              "    <tr>\n",
              "      <th>43499</th>\n",
              "      <td>1998</td>\n",
              "      <td>1</td>\n",
              "      <td>CONCEPCION</td>\n",
              "      <td>1</td>\n",
              "      <td>BELEN</td>\n",
              "      <td>NaN</td>\n",
              "      <td>NaN</td>\n",
              "      <td>NaN</td>\n",
              "      <td>NaN</td>\n",
              "      <td>1</td>\n",
              "      <td>PRESIDENTE Y VICEPRESIDENTE DE LA RCA.</td>\n",
              "      <td>3.0</td>\n",
              "      <td>PRF</td>\n",
              "      <td>PARTIDO REVOLUCIONARIO FEBRERISTA</td>\n",
              "      <td>18</td>\n",
              "      <td>45</td>\n",
              "      <td>12</td>\n",
              "      <td>2803</td>\n",
              "    </tr>\n",
              "    <tr>\n",
              "      <th>43500</th>\n",
              "      <td>1998</td>\n",
              "      <td>1</td>\n",
              "      <td>CONCEPCION</td>\n",
              "      <td>1</td>\n",
              "      <td>BELEN</td>\n",
              "      <td>NaN</td>\n",
              "      <td>NaN</td>\n",
              "      <td>NaN</td>\n",
              "      <td>NaN</td>\n",
              "      <td>1</td>\n",
              "      <td>PRESIDENTE Y VICEPRESIDENTE DE LA RCA.</td>\n",
              "      <td>6.0</td>\n",
              "      <td>BLANCO</td>\n",
              "      <td>PARTIDO BLANCO</td>\n",
              "      <td>3</td>\n",
              "      <td>45</td>\n",
              "      <td>12</td>\n",
              "      <td>2803</td>\n",
              "    </tr>\n",
              "    <tr>\n",
              "      <th>43501</th>\n",
              "      <td>1998</td>\n",
              "      <td>1</td>\n",
              "      <td>CONCEPCION</td>\n",
              "      <td>1</td>\n",
              "      <td>BELEN</td>\n",
              "      <td>NaN</td>\n",
              "      <td>NaN</td>\n",
              "      <td>NaN</td>\n",
              "      <td>NaN</td>\n",
              "      <td>1</td>\n",
              "      <td>PRESIDENTE Y VICEPRESIDENTE DE LA RCA.</td>\n",
              "      <td>10.0</td>\n",
              "      <td>ALIANZA_D</td>\n",
              "      <td>ALIANZA DEMOCRATICA PLRA_PEN</td>\n",
              "      <td>1355</td>\n",
              "      <td>45</td>\n",
              "      <td>12</td>\n",
              "      <td>2803</td>\n",
              "    </tr>\n",
              "    <tr>\n",
              "      <th>43502</th>\n",
              "      <td>1998</td>\n",
              "      <td>1</td>\n",
              "      <td>CONCEPCION</td>\n",
              "      <td>2</td>\n",
              "      <td>CONCEPCION</td>\n",
              "      <td>NaN</td>\n",
              "      <td>NaN</td>\n",
              "      <td>NaN</td>\n",
              "      <td>NaN</td>\n",
              "      <td>1</td>\n",
              "      <td>PRESIDENTE Y VICEPRESIDENTE DE LA RCA.</td>\n",
              "      <td>1.0</td>\n",
              "      <td>ANR</td>\n",
              "      <td>PARTIDO COLORADO</td>\n",
              "      <td>8992</td>\n",
              "      <td>358</td>\n",
              "      <td>152</td>\n",
              "      <td>19809</td>\n",
              "    </tr>\n",
              "    <tr>\n",
              "      <th>43503</th>\n",
              "      <td>1998</td>\n",
              "      <td>1</td>\n",
              "      <td>CONCEPCION</td>\n",
              "      <td>2</td>\n",
              "      <td>CONCEPCION</td>\n",
              "      <td>NaN</td>\n",
              "      <td>NaN</td>\n",
              "      <td>NaN</td>\n",
              "      <td>NaN</td>\n",
              "      <td>1</td>\n",
              "      <td>PRESIDENTE Y VICEPRESIDENTE DE LA RCA.</td>\n",
              "      <td>3.0</td>\n",
              "      <td>PRF</td>\n",
              "      <td>PARTIDO REVOLUCIONARIO FEBRERISTA</td>\n",
              "      <td>162</td>\n",
              "      <td>358</td>\n",
              "      <td>152</td>\n",
              "      <td>19809</td>\n",
              "    </tr>\n",
              "    <tr>\n",
              "      <th>43504</th>\n",
              "      <td>1998</td>\n",
              "      <td>1</td>\n",
              "      <td>CONCEPCION</td>\n",
              "      <td>2</td>\n",
              "      <td>CONCEPCION</td>\n",
              "      <td>NaN</td>\n",
              "      <td>NaN</td>\n",
              "      <td>NaN</td>\n",
              "      <td>NaN</td>\n",
              "      <td>1</td>\n",
              "      <td>PRESIDENTE Y VICEPRESIDENTE DE LA RCA.</td>\n",
              "      <td>6.0</td>\n",
              "      <td>BLANCO</td>\n",
              "      <td>PARTIDO BLANCO</td>\n",
              "      <td>52</td>\n",
              "      <td>358</td>\n",
              "      <td>152</td>\n",
              "      <td>19809</td>\n",
              "    </tr>\n",
              "    <tr>\n",
              "      <th>43505</th>\n",
              "      <td>1998</td>\n",
              "      <td>1</td>\n",
              "      <td>CONCEPCION</td>\n",
              "      <td>2</td>\n",
              "      <td>CONCEPCION</td>\n",
              "      <td>NaN</td>\n",
              "      <td>NaN</td>\n",
              "      <td>NaN</td>\n",
              "      <td>NaN</td>\n",
              "      <td>1</td>\n",
              "      <td>PRESIDENTE Y VICEPRESIDENTE DE LA RCA.</td>\n",
              "      <td>10.0</td>\n",
              "      <td>ALIANZA_D</td>\n",
              "      <td>ALIANZA DEMOCRATICA PLRA_PEN</td>\n",
              "      <td>10093</td>\n",
              "      <td>358</td>\n",
              "      <td>152</td>\n",
              "      <td>19809</td>\n",
              "    </tr>\n",
              "    <tr>\n",
              "      <th>43506</th>\n",
              "      <td>1998</td>\n",
              "      <td>1</td>\n",
              "      <td>CONCEPCION</td>\n",
              "      <td>3</td>\n",
              "      <td>HORQUETA</td>\n",
              "      <td>NaN</td>\n",
              "      <td>NaN</td>\n",
              "      <td>NaN</td>\n",
              "      <td>NaN</td>\n",
              "      <td>1</td>\n",
              "      <td>PRESIDENTE Y VICEPRESIDENTE DE LA RCA.</td>\n",
              "      <td>1.0</td>\n",
              "      <td>ANR</td>\n",
              "      <td>PARTIDO COLORADO</td>\n",
              "      <td>6030</td>\n",
              "      <td>270</td>\n",
              "      <td>139</td>\n",
              "      <td>13741</td>\n",
              "    </tr>\n",
              "    <tr>\n",
              "      <th>43507</th>\n",
              "      <td>1998</td>\n",
              "      <td>1</td>\n",
              "      <td>CONCEPCION</td>\n",
              "      <td>3</td>\n",
              "      <td>HORQUETA</td>\n",
              "      <td>NaN</td>\n",
              "      <td>NaN</td>\n",
              "      <td>NaN</td>\n",
              "      <td>NaN</td>\n",
              "      <td>1</td>\n",
              "      <td>PRESIDENTE Y VICEPRESIDENTE DE LA RCA.</td>\n",
              "      <td>3.0</td>\n",
              "      <td>PRF</td>\n",
              "      <td>PARTIDO REVOLUCIONARIO FEBRERISTA</td>\n",
              "      <td>82</td>\n",
              "      <td>270</td>\n",
              "      <td>139</td>\n",
              "      <td>13741</td>\n",
              "    </tr>\n",
              "    <tr>\n",
              "      <th>43508</th>\n",
              "      <td>1998</td>\n",
              "      <td>1</td>\n",
              "      <td>CONCEPCION</td>\n",
              "      <td>3</td>\n",
              "      <td>HORQUETA</td>\n",
              "      <td>NaN</td>\n",
              "      <td>NaN</td>\n",
              "      <td>NaN</td>\n",
              "      <td>NaN</td>\n",
              "      <td>1</td>\n",
              "      <td>PRESIDENTE Y VICEPRESIDENTE DE LA RCA.</td>\n",
              "      <td>6.0</td>\n",
              "      <td>BLANCO</td>\n",
              "      <td>PARTIDO BLANCO</td>\n",
              "      <td>26</td>\n",
              "      <td>270</td>\n",
              "      <td>139</td>\n",
              "      <td>13741</td>\n",
              "    </tr>\n",
              "    <tr>\n",
              "      <th>43509</th>\n",
              "      <td>1998</td>\n",
              "      <td>1</td>\n",
              "      <td>CONCEPCION</td>\n",
              "      <td>3</td>\n",
              "      <td>HORQUETA</td>\n",
              "      <td>NaN</td>\n",
              "      <td>NaN</td>\n",
              "      <td>NaN</td>\n",
              "      <td>NaN</td>\n",
              "      <td>1</td>\n",
              "      <td>PRESIDENTE Y VICEPRESIDENTE DE LA RCA.</td>\n",
              "      <td>10.0</td>\n",
              "      <td>ALIANZA_D</td>\n",
              "      <td>ALIANZA DEMOCRATICA PLRA_PEN</td>\n",
              "      <td>7194</td>\n",
              "      <td>270</td>\n",
              "      <td>139</td>\n",
              "      <td>13741</td>\n",
              "    </tr>\n",
              "    <tr>\n",
              "      <th>43510</th>\n",
              "      <td>1998</td>\n",
              "      <td>1</td>\n",
              "      <td>CONCEPCION</td>\n",
              "      <td>4</td>\n",
              "      <td>LORETO</td>\n",
              "      <td>NaN</td>\n",
              "      <td>NaN</td>\n",
              "      <td>NaN</td>\n",
              "      <td>NaN</td>\n",
              "      <td>1</td>\n",
              "      <td>PRESIDENTE Y VICEPRESIDENTE DE LA RCA.</td>\n",
              "      <td>1.0</td>\n",
              "      <td>ANR</td>\n",
              "      <td>PARTIDO COLORADO</td>\n",
              "      <td>2014</td>\n",
              "      <td>75</td>\n",
              "      <td>37</td>\n",
              "      <td>4312</td>\n",
              "    </tr>\n",
              "    <tr>\n",
              "      <th>43511</th>\n",
              "      <td>1998</td>\n",
              "      <td>1</td>\n",
              "      <td>CONCEPCION</td>\n",
              "      <td>4</td>\n",
              "      <td>LORETO</td>\n",
              "      <td>NaN</td>\n",
              "      <td>NaN</td>\n",
              "      <td>NaN</td>\n",
              "      <td>NaN</td>\n",
              "      <td>1</td>\n",
              "      <td>PRESIDENTE Y VICEPRESIDENTE DE LA RCA.</td>\n",
              "      <td>3.0</td>\n",
              "      <td>PRF</td>\n",
              "      <td>PARTIDO REVOLUCIONARIO FEBRERISTA</td>\n",
              "      <td>13</td>\n",
              "      <td>75</td>\n",
              "      <td>37</td>\n",
              "      <td>4312</td>\n",
              "    </tr>\n",
              "    <tr>\n",
              "      <th>43512</th>\n",
              "      <td>1998</td>\n",
              "      <td>1</td>\n",
              "      <td>CONCEPCION</td>\n",
              "      <td>4</td>\n",
              "      <td>LORETO</td>\n",
              "      <td>NaN</td>\n",
              "      <td>NaN</td>\n",
              "      <td>NaN</td>\n",
              "      <td>NaN</td>\n",
              "      <td>1</td>\n",
              "      <td>PRESIDENTE Y VICEPRESIDENTE DE LA RCA.</td>\n",
              "      <td>6.0</td>\n",
              "      <td>BLANCO</td>\n",
              "      <td>PARTIDO BLANCO</td>\n",
              "      <td>14</td>\n",
              "      <td>75</td>\n",
              "      <td>37</td>\n",
              "      <td>4312</td>\n",
              "    </tr>\n",
              "    <tr>\n",
              "      <th>43513</th>\n",
              "      <td>1998</td>\n",
              "      <td>1</td>\n",
              "      <td>CONCEPCION</td>\n",
              "      <td>4</td>\n",
              "      <td>LORETO</td>\n",
              "      <td>NaN</td>\n",
              "      <td>NaN</td>\n",
              "      <td>NaN</td>\n",
              "      <td>NaN</td>\n",
              "      <td>1</td>\n",
              "      <td>PRESIDENTE Y VICEPRESIDENTE DE LA RCA.</td>\n",
              "      <td>10.0</td>\n",
              "      <td>ALIANZA_D</td>\n",
              "      <td>ALIANZA DEMOCRATICA PLRA_PEN</td>\n",
              "      <td>2159</td>\n",
              "      <td>75</td>\n",
              "      <td>37</td>\n",
              "      <td>4312</td>\n",
              "    </tr>\n",
              "    <tr>\n",
              "      <th>43514</th>\n",
              "      <td>1998</td>\n",
              "      <td>1</td>\n",
              "      <td>CONCEPCION</td>\n",
              "      <td>5</td>\n",
              "      <td>PASO BARRETO</td>\n",
              "      <td>NaN</td>\n",
              "      <td>NaN</td>\n",
              "      <td>NaN</td>\n",
              "      <td>NaN</td>\n",
              "      <td>1</td>\n",
              "      <td>PRESIDENTE Y VICEPRESIDENTE DE LA RCA.</td>\n",
              "      <td>1.0</td>\n",
              "      <td>ANR</td>\n",
              "      <td>PARTIDO COLORADO</td>\n",
              "      <td>410</td>\n",
              "      <td>20</td>\n",
              "      <td>5</td>\n",
              "      <td>1068</td>\n",
              "    </tr>\n",
              "    <tr>\n",
              "      <th>43515</th>\n",
              "      <td>1998</td>\n",
              "      <td>1</td>\n",
              "      <td>CONCEPCION</td>\n",
              "      <td>5</td>\n",
              "      <td>PASO BARRETO</td>\n",
              "      <td>NaN</td>\n",
              "      <td>NaN</td>\n",
              "      <td>NaN</td>\n",
              "      <td>NaN</td>\n",
              "      <td>1</td>\n",
              "      <td>PRESIDENTE Y VICEPRESIDENTE DE LA RCA.</td>\n",
              "      <td>3.0</td>\n",
              "      <td>PRF</td>\n",
              "      <td>PARTIDO REVOLUCIONARIO FEBRERISTA</td>\n",
              "      <td>3</td>\n",
              "      <td>20</td>\n",
              "      <td>5</td>\n",
              "      <td>1068</td>\n",
              "    </tr>\n",
              "    <tr>\n",
              "      <th>43516</th>\n",
              "      <td>1998</td>\n",
              "      <td>1</td>\n",
              "      <td>CONCEPCION</td>\n",
              "      <td>5</td>\n",
              "      <td>PASO BARRETO</td>\n",
              "      <td>NaN</td>\n",
              "      <td>NaN</td>\n",
              "      <td>NaN</td>\n",
              "      <td>NaN</td>\n",
              "      <td>1</td>\n",
              "      <td>PRESIDENTE Y VICEPRESIDENTE DE LA RCA.</td>\n",
              "      <td>6.0</td>\n",
              "      <td>BLANCO</td>\n",
              "      <td>PARTIDO BLANCO</td>\n",
              "      <td>2</td>\n",
              "      <td>20</td>\n",
              "      <td>5</td>\n",
              "      <td>1068</td>\n",
              "    </tr>\n",
              "    <tr>\n",
              "      <th>43517</th>\n",
              "      <td>1998</td>\n",
              "      <td>1</td>\n",
              "      <td>CONCEPCION</td>\n",
              "      <td>5</td>\n",
              "      <td>PASO BARRETO</td>\n",
              "      <td>NaN</td>\n",
              "      <td>NaN</td>\n",
              "      <td>NaN</td>\n",
              "      <td>NaN</td>\n",
              "      <td>1</td>\n",
              "      <td>PRESIDENTE Y VICEPRESIDENTE DE LA RCA.</td>\n",
              "      <td>10.0</td>\n",
              "      <td>ALIANZA_D</td>\n",
              "      <td>ALIANZA DEMOCRATICA PLRA_PEN</td>\n",
              "      <td>628</td>\n",
              "      <td>20</td>\n",
              "      <td>5</td>\n",
              "      <td>1068</td>\n",
              "    </tr>\n",
              "    <tr>\n",
              "      <th>43518</th>\n",
              "      <td>1998</td>\n",
              "      <td>1</td>\n",
              "      <td>CONCEPCION</td>\n",
              "      <td>6</td>\n",
              "      <td>PUENTESINHO</td>\n",
              "      <td>NaN</td>\n",
              "      <td>NaN</td>\n",
              "      <td>NaN</td>\n",
              "      <td>NaN</td>\n",
              "      <td>1</td>\n",
              "      <td>PRESIDENTE Y VICEPRESIDENTE DE LA RCA.</td>\n",
              "      <td>1.0</td>\n",
              "      <td>ANR</td>\n",
              "      <td>PARTIDO COLORADO</td>\n",
              "      <td>288</td>\n",
              "      <td>18</td>\n",
              "      <td>7</td>\n",
              "      <td>599</td>\n",
              "    </tr>\n",
              "    <tr>\n",
              "      <th>43519</th>\n",
              "      <td>1998</td>\n",
              "      <td>1</td>\n",
              "      <td>CONCEPCION</td>\n",
              "      <td>6</td>\n",
              "      <td>PUENTESINHO</td>\n",
              "      <td>NaN</td>\n",
              "      <td>NaN</td>\n",
              "      <td>NaN</td>\n",
              "      <td>NaN</td>\n",
              "      <td>1</td>\n",
              "      <td>PRESIDENTE Y VICEPRESIDENTE DE LA RCA.</td>\n",
              "      <td>3.0</td>\n",
              "      <td>PRF</td>\n",
              "      <td>PARTIDO REVOLUCIONARIO FEBRERISTA</td>\n",
              "      <td>0</td>\n",
              "      <td>18</td>\n",
              "      <td>7</td>\n",
              "      <td>599</td>\n",
              "    </tr>\n",
              "    <tr>\n",
              "      <th>43520</th>\n",
              "      <td>1998</td>\n",
              "      <td>1</td>\n",
              "      <td>CONCEPCION</td>\n",
              "      <td>6</td>\n",
              "      <td>PUENTESINHO</td>\n",
              "      <td>NaN</td>\n",
              "      <td>NaN</td>\n",
              "      <td>NaN</td>\n",
              "      <td>NaN</td>\n",
              "      <td>1</td>\n",
              "      <td>PRESIDENTE Y VICEPRESIDENTE DE LA RCA.</td>\n",
              "      <td>6.0</td>\n",
              "      <td>BLANCO</td>\n",
              "      <td>PARTIDO BLANCO</td>\n",
              "      <td>2</td>\n",
              "      <td>18</td>\n",
              "      <td>7</td>\n",
              "      <td>599</td>\n",
              "    </tr>\n",
              "    <tr>\n",
              "      <th>43521</th>\n",
              "      <td>1998</td>\n",
              "      <td>1</td>\n",
              "      <td>CONCEPCION</td>\n",
              "      <td>6</td>\n",
              "      <td>PUENTESINHO</td>\n",
              "      <td>NaN</td>\n",
              "      <td>NaN</td>\n",
              "      <td>NaN</td>\n",
              "      <td>NaN</td>\n",
              "      <td>1</td>\n",
              "      <td>PRESIDENTE Y VICEPRESIDENTE DE LA RCA.</td>\n",
              "      <td>10.0</td>\n",
              "      <td>ALIANZA_D</td>\n",
              "      <td>ALIANZA DEMOCRATICA PLRA_PEN</td>\n",
              "      <td>284</td>\n",
              "      <td>18</td>\n",
              "      <td>7</td>\n",
              "      <td>599</td>\n",
              "    </tr>\n",
              "    <tr>\n",
              "      <th>43522</th>\n",
              "      <td>1998</td>\n",
              "      <td>1</td>\n",
              "      <td>CONCEPCION</td>\n",
              "      <td>7</td>\n",
              "      <td>PUERTO FONCIERE</td>\n",
              "      <td>NaN</td>\n",
              "      <td>NaN</td>\n",
              "      <td>NaN</td>\n",
              "      <td>NaN</td>\n",
              "      <td>1</td>\n",
              "      <td>PRESIDENTE Y VICEPRESIDENTE DE LA RCA.</td>\n",
              "      <td>1.0</td>\n",
              "      <td>ANR</td>\n",
              "      <td>PARTIDO COLORADO</td>\n",
              "      <td>211</td>\n",
              "      <td>2</td>\n",
              "      <td>6</td>\n",
              "      <td>397</td>\n",
              "    </tr>\n",
              "    <tr>\n",
              "      <th>43523</th>\n",
              "      <td>1998</td>\n",
              "      <td>1</td>\n",
              "      <td>CONCEPCION</td>\n",
              "      <td>7</td>\n",
              "      <td>PUERTO FONCIERE</td>\n",
              "      <td>NaN</td>\n",
              "      <td>NaN</td>\n",
              "      <td>NaN</td>\n",
              "      <td>NaN</td>\n",
              "      <td>1</td>\n",
              "      <td>PRESIDENTE Y VICEPRESIDENTE DE LA RCA.</td>\n",
              "      <td>3.0</td>\n",
              "      <td>PRF</td>\n",
              "      <td>PARTIDO REVOLUCIONARIO FEBRERISTA</td>\n",
              "      <td>2</td>\n",
              "      <td>2</td>\n",
              "      <td>6</td>\n",
              "      <td>397</td>\n",
              "    </tr>\n",
              "  </tbody>\n",
              "</table>\n",
              "</div>"
            ],
            "text/plain": [
              "        año  dep      depdes  dis  ...  votos  nulos blancos  total_votos\n",
              "43474  1998    0     CAPITAL    1  ...  17729    537     230        33945\n",
              "43475  1998    0     CAPITAL    1  ...    320    537     230        33945\n",
              "43476  1998    0     CAPITAL    1  ...    145    537     230        33945\n",
              "43477  1998    0     CAPITAL    1  ...  14984    537     230        33945\n",
              "43478  1998    0     CAPITAL    2  ...   5770    164      63        11112\n",
              "43479  1998    0     CAPITAL    2  ...    124    164      63        11112\n",
              "43480  1998    0     CAPITAL    2  ...     22    164      63        11112\n",
              "43481  1998    0     CAPITAL    2  ...   4969    164      63        11112\n",
              "43482  1998    0     CAPITAL    3  ...  38857   1320     519        76400\n",
              "43483  1998    0     CAPITAL    3  ...    709   1320     519        76400\n",
              "43484  1998    0     CAPITAL    3  ...    162   1320     519        76400\n",
              "43485  1998    0     CAPITAL    3  ...  34833   1320     519        76400\n",
              "43486  1998    0     CAPITAL    4  ...  37670   1059     489        71472\n",
              "43487  1998    0     CAPITAL    4  ...    629   1059     489        71472\n",
              "43488  1998    0     CAPITAL    4  ...    149   1059     489        71472\n",
              "43489  1998    0     CAPITAL    4  ...  31476   1059     489        71472\n",
              "43490  1998    0     CAPITAL    5  ...  30246    917     355        53082\n",
              "43491  1998    0     CAPITAL    5  ...    416    917     355        53082\n",
              "43492  1998    0     CAPITAL    5  ...    121    917     355        53082\n",
              "43493  1998    0     CAPITAL    5  ...  21027    917     355        53082\n",
              "43494  1998    0     CAPITAL    6  ...   3261     61      31         5236\n",
              "43495  1998    0     CAPITAL    6  ...     24     61      31         5236\n",
              "43496  1998    0     CAPITAL    6  ...     15     61      31         5236\n",
              "43497  1998    0     CAPITAL    6  ...   1844     61      31         5236\n",
              "43498  1998    1  CONCEPCION    1  ...   1370     45      12         2803\n",
              "43499  1998    1  CONCEPCION    1  ...     18     45      12         2803\n",
              "43500  1998    1  CONCEPCION    1  ...      3     45      12         2803\n",
              "43501  1998    1  CONCEPCION    1  ...   1355     45      12         2803\n",
              "43502  1998    1  CONCEPCION    2  ...   8992    358     152        19809\n",
              "43503  1998    1  CONCEPCION    2  ...    162    358     152        19809\n",
              "43504  1998    1  CONCEPCION    2  ...     52    358     152        19809\n",
              "43505  1998    1  CONCEPCION    2  ...  10093    358     152        19809\n",
              "43506  1998    1  CONCEPCION    3  ...   6030    270     139        13741\n",
              "43507  1998    1  CONCEPCION    3  ...     82    270     139        13741\n",
              "43508  1998    1  CONCEPCION    3  ...     26    270     139        13741\n",
              "43509  1998    1  CONCEPCION    3  ...   7194    270     139        13741\n",
              "43510  1998    1  CONCEPCION    4  ...   2014     75      37         4312\n",
              "43511  1998    1  CONCEPCION    4  ...     13     75      37         4312\n",
              "43512  1998    1  CONCEPCION    4  ...     14     75      37         4312\n",
              "43513  1998    1  CONCEPCION    4  ...   2159     75      37         4312\n",
              "43514  1998    1  CONCEPCION    5  ...    410     20       5         1068\n",
              "43515  1998    1  CONCEPCION    5  ...      3     20       5         1068\n",
              "43516  1998    1  CONCEPCION    5  ...      2     20       5         1068\n",
              "43517  1998    1  CONCEPCION    5  ...    628     20       5         1068\n",
              "43518  1998    1  CONCEPCION    6  ...    288     18       7          599\n",
              "43519  1998    1  CONCEPCION    6  ...      0     18       7          599\n",
              "43520  1998    1  CONCEPCION    6  ...      2     18       7          599\n",
              "43521  1998    1  CONCEPCION    6  ...    284     18       7          599\n",
              "43522  1998    1  CONCEPCION    7  ...    211      2       6          397\n",
              "43523  1998    1  CONCEPCION    7  ...      2      2       6          397\n",
              "\n",
              "[50 rows x 18 columns]"
            ]
          },
          "metadata": {
            "tags": []
          },
          "execution_count": 17
        }
      ]
    },
    {
      "cell_type": "markdown",
      "metadata": {
        "id": "8DmQ88iw__3J"
      },
      "source": [
        "Análisis preliminar del Dataset\n",
        "Resumen de los datos\n",
        "\n"
      ]
    },
    {
      "cell_type": "code",
      "metadata": {
        "id": "wLBOOjjMAG4w",
        "outputId": "d967dbbc-6845-4416-a423-a3dcc3e0ba0e",
        "colab": {
          "base_uri": "https://localhost:8080/"
        }
      },
      "source": [
        "generales_df.columns.values"
      ],
      "execution_count": 18,
      "outputs": [
        {
          "output_type": "execute_result",
          "data": {
            "text/plain": [
              "array(['año', 'dep', 'depdes', 'dis', 'disdes', 'zon', 'zondes', 'loc',\n",
              "       'locdes', 'candidatura', 'cand_desc', 'lista', 'siglas_lista',\n",
              "       'nombre_lista', 'votos', 'nulos', 'blancos', 'total_votos'],\n",
              "      dtype=object)"
            ]
          },
          "metadata": {
            "tags": []
          },
          "execution_count": 18
        }
      ]
    },
    {
      "cell_type": "markdown",
      "metadata": {
        "id": "rkzHAwcxClVS"
      },
      "source": [
        "Tipos de datos de los campos\n"
      ]
    },
    {
      "cell_type": "code",
      "metadata": {
        "id": "yEy2ynNlDl83",
        "outputId": "2d1510d9-64a7-47a2-ea6c-b1d51fbb985a",
        "colab": {
          "base_uri": "https://localhost:8080/"
        }
      },
      "source": [
        "generales_df.dtypes"
      ],
      "execution_count": 19,
      "outputs": [
        {
          "output_type": "execute_result",
          "data": {
            "text/plain": [
              "año               int64\n",
              "dep               int64\n",
              "depdes           object\n",
              "dis               int64\n",
              "disdes           object\n",
              "zon             float64\n",
              "zondes           object\n",
              "loc             float64\n",
              "locdes           object\n",
              "candidatura       int64\n",
              "cand_desc        object\n",
              "lista           float64\n",
              "siglas_lista     object\n",
              "nombre_lista     object\n",
              "votos             int64\n",
              "nulos             int64\n",
              "blancos           int64\n",
              "total_votos       int64\n",
              "dtype: object"
            ]
          },
          "metadata": {
            "tags": []
          },
          "execution_count": 19
        }
      ]
    },
    {
      "cell_type": "code",
      "metadata": {
        "id": "gRQV0nqGGBqz",
        "outputId": "fa52817c-c680-422b-b46a-86a1382ead03",
        "colab": {
          "base_uri": "https://localhost:8080/"
        }
      },
      "source": [
        "# Cantidad de registros con Valores nulos de los campos zon zon\tzondes\tloc\tlocdes lista\n",
        "pd.isnull(generales_df[\"zon\"]).values.ravel().sum()  \n"
      ],
      "execution_count": 20,
      "outputs": [
        {
          "output_type": "execute_result",
          "data": {
            "text/plain": [
              "1669"
            ]
          },
          "metadata": {
            "tags": []
          },
          "execution_count": 20
        }
      ]
    },
    {
      "cell_type": "code",
      "metadata": {
        "id": "0FIxiMRwHlVU",
        "outputId": "efd0c5be-b1df-4a02-97f5-428a9e41ee02",
        "colab": {
          "base_uri": "https://localhost:8080/"
        }
      },
      "source": [
        "pd.isnull(generales_df[\"zondes\"]).values.ravel().sum()  \n"
      ],
      "execution_count": 21,
      "outputs": [
        {
          "output_type": "execute_result",
          "data": {
            "text/plain": [
              "1669"
            ]
          },
          "metadata": {
            "tags": []
          },
          "execution_count": 21
        }
      ]
    },
    {
      "cell_type": "code",
      "metadata": {
        "id": "IwArEec_Hlia",
        "outputId": "530a856a-8ce7-4850-fc89-f4cb46395174",
        "colab": {
          "base_uri": "https://localhost:8080/"
        }
      },
      "source": [
        "pd.isnull(generales_df[\"loc\"]).values.ravel().sum()  \n",
        " "
      ],
      "execution_count": 22,
      "outputs": [
        {
          "output_type": "execute_result",
          "data": {
            "text/plain": [
              "1669"
            ]
          },
          "metadata": {
            "tags": []
          },
          "execution_count": 22
        }
      ]
    },
    {
      "cell_type": "code",
      "metadata": {
        "id": "K7tTSzkrHlq2",
        "outputId": "9b57fdc0-a564-4d83-b61d-3eff6dcf3239",
        "colab": {
          "base_uri": "https://localhost:8080/"
        }
      },
      "source": [
        "pd.isnull(generales_df[\"locdes\"]).values.ravel().sum()  \n"
      ],
      "execution_count": 23,
      "outputs": [
        {
          "output_type": "execute_result",
          "data": {
            "text/plain": [
              "1669"
            ]
          },
          "metadata": {
            "tags": []
          },
          "execution_count": 23
        }
      ]
    },
    {
      "cell_type": "code",
      "metadata": {
        "id": "iw6tLQIwHlxC",
        "outputId": "236978c2-4a6d-4b03-95d1-f7001fbd0d6c",
        "colab": {
          "base_uri": "https://localhost:8080/"
        }
      },
      "source": [
        "pd.isnull(generales_df[\"lista\"]).values.ravel().sum() "
      ],
      "execution_count": 24,
      "outputs": [
        {
          "output_type": "execute_result",
          "data": {
            "text/plain": [
              "0"
            ]
          },
          "metadata": {
            "tags": []
          },
          "execution_count": 24
        }
      ]
    },
    {
      "cell_type": "code",
      "metadata": {
        "id": "jbsNxYtzH-I8"
      },
      "source": [
        "#elecciones_df[\"nombre_camponumerico\"].fillna(0)     # Para cambiar con valores cero a los campos que tienen NAN\n",
        "#elecciones_df[\"nombre_texto\"].fillna(\"Desconocido\") # Para cambiar con valores Texto a los campos String que tienen NAN"
      ],
      "execution_count": 25,
      "outputs": []
    },
    {
      "cell_type": "code",
      "metadata": {
        "id": "CEOiezFrZlcE"
      },
      "source": [
        "% matplotlib inline \n",
        "# savefig(\"path/archivo.jpg\") para guardar las imagenes de grafico "
      ],
      "execution_count": 26,
      "outputs": []
    },
    {
      "cell_type": "code",
      "metadata": {
        "id": "n3Ufs1_ragH1",
        "outputId": "6a7335a9-0101-4e68-8349-706698683e76",
        "colab": {
          "base_uri": "https://localhost:8080/",
          "height": 296
        }
      },
      "source": [
        "generales_df.plot(kind=\"scatter\", x=\"año\", y= \"lista\")"
      ],
      "execution_count": 27,
      "outputs": [
        {
          "output_type": "execute_result",
          "data": {
            "text/plain": [
              "<matplotlib.axes._subplots.AxesSubplot at 0x7fc9b0094240>"
            ]
          },
          "metadata": {
            "tags": []
          },
          "execution_count": 27
        },
        {
          "output_type": "display_data",
          "data": {
            "image/png": "[encoded data removed]",
            "text/plain": [
              "<Figure size 432x288 with 1 Axes>"
            ]
          },
          "metadata": {
            "tags": [],
            "needs_background": "light"
          }
        }
      ]
    },
    {
      "cell_type": "code",
      "metadata": {
        "id": "t7r8QItPaOjo",
        "outputId": "c645b309-61e1-435b-e6c5-8a07d59a6603",
        "colab": {
          "base_uri": "https://localhost:8080/",
          "height": 298
        }
      },
      "source": [
        "figure, axs = plt.subplots(2,2, sharey=True,sharex=True)\n",
        "generales_df.plot(kind=\"scatter\", x=\"lista\", y = \"votos\", ax=axs[0][0])\n",
        "generales_df.plot(kind=\"scatter\", x=\"lista\", y = \"votos\", ax=axs[0][1])\n",
        "generales_df.plot(kind=\"scatter\", x=\"siglas_lista\", y = \"año\", ax=axs[1][0])\n",
        "generales_df.plot(kind=\"scatter\", x=\"año\", y = \"lista\", ax=axs[1][1])"
      ],
      "execution_count": 28,
      "outputs": [
        {
          "output_type": "execute_result",
          "data": {
            "text/plain": [
              "<matplotlib.axes._subplots.AxesSubplot at 0x7fc9afb76668>"
            ]
          },
          "metadata": {
            "tags": []
          },
          "execution_count": 28
        },
        {
          "output_type": "display_data",
          "data": {
            "image/png": "[encoded data removed]",
            "text/plain": [
              "<Figure size 432x288 with 4 Axes>"
            ]
          },
          "metadata": {
            "tags": [],
            "needs_background": "light"
          }
        }
      ]
    },
    {
      "cell_type": "markdown",
      "metadata": {
        "id": "M4OcvxhIfX2P"
      },
      "source": [
        "Historgrama de frecuencias"
      ]
    },
    {
      "cell_type": "code",
      "metadata": {
        "id": "I9tVSMkQc7ZR",
        "outputId": "e9d47d48-cca5-498b-c3f3-bc87609b2108",
        "colab": {
          "base_uri": "https://localhost:8080/",
          "height": 312
        }
      },
      "source": [
        "plt.hist(generales_df[\"año\"],bins = 20)\n",
        "plt.xlabel(\"Candidaturas\")\n",
        "plt.ylabel(\"Frecuencia\")\n",
        "plt.title(\"Historgrama de candidaturas\")"
      ],
      "execution_count": 29,
      "outputs": [
        {
          "output_type": "execute_result",
          "data": {
            "text/plain": [
              "Text(0.5, 1.0, 'Historgrama de candidaturas')"
            ]
          },
          "metadata": {
            "tags": []
          },
          "execution_count": 29
        },
        {
          "output_type": "display_data",
          "data": {
            "image/png": "[encoded data removed]",
            "text/plain": [
              "<Figure size 432x288 with 1 Axes>"
            ]
          },
          "metadata": {
            "tags": [],
            "needs_background": "light"
          }
        }
      ]
    },
    {
      "cell_type": "markdown",
      "metadata": {
        "id": "lGcWz19VgU8Y"
      },
      "source": [
        ""
      ]
    },
    {
      "cell_type": "code",
      "metadata": {
        "id": "JS3MugMUgVrO",
        "outputId": "e2bbd991-3a2c-431b-f7c7-e1966069e604",
        "colab": {
          "base_uri": "https://localhost:8080/",
          "height": 298
        }
      },
      "source": [
        "plt.boxplot(generales_df[\"lista\"])\n",
        "plt.ylabel(\"label de la variable\")\n",
        "plt.title(\"Titlulo del boxplot\")"
      ],
      "execution_count": 30,
      "outputs": [
        {
          "output_type": "execute_result",
          "data": {
            "text/plain": [
              "Text(0.5, 1.0, 'Titlulo del boxplot')"
            ]
          },
          "metadata": {
            "tags": []
          },
          "execution_count": 30
        },
        {
          "output_type": "display_data",
          "data": {
            "image/png": "[encoded data removed]",
            "text/plain": [
              "<Figure size 432x288 with 1 Axes>"
            ]
          },
          "metadata": {
            "tags": [],
            "needs_background": "light"
          }
        }
      ]
    }
  ]
}